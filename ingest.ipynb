{
 "cells": [
  {
   "cell_type": "code",
   "execution_count": null,
   "id": "4cb77455",
   "metadata": {},
   "outputs": [],
   "source": [
    "# Import necessary modules from LangChain, ChromaDB, and Python standard library\n",
    "from langchain_community.document_loaders import UnstructuredPDFLoader\n",
    "from langchain_experimental.text_splitter import SemanticChunker\n",
    "from langchain.embeddings import HuggingFaceEmbeddings\n",
    "from langchain_chroma import Chroma\n",
    "from langchain_community.vectorstores.utils import filter_complex_metadata\n",
    "import os\n",
    "import re\n",
    "import chromadb"
   ]
  },
  {
   "cell_type": "code",
   "execution_count": null,
   "id": "88cec743",
   "metadata": {},
   "outputs": [
    {
     "name": "stderr",
     "output_type": "stream",
     "text": [
      "C:\\Users\\Siddharth\\AppData\\Local\\Temp\\ipykernel_14188\\1670793983.py:1: LangChainDeprecationWarning: The class `HuggingFaceEmbeddings` was deprecated in LangChain 0.2.2 and will be removed in 1.0. An updated version of the class exists in the :class:`~langchain-huggingface package and should be used instead. To use it run `pip install -U :class:`~langchain-huggingface` and import as `from :class:`~langchain_huggingface import HuggingFaceEmbeddings``.\n",
      "  embedding_model = HuggingFaceEmbeddings(\n"
     ]
    },
    {
     "ename": "AttributeError",
     "evalue": "'MessageFactory' object has no attribute 'GetPrototype'",
     "output_type": "error",
     "traceback": [
      "\u001b[1;31m---------------------------------------------------------------------------\u001b[0m",
      "\u001b[1;31mAttributeError\u001b[0m                            Traceback (most recent call last)",
      "\u001b[1;31mAttributeError\u001b[0m: 'MessageFactory' object has no attribute 'GetPrototype'"
     ]
    },
    {
     "ename": "AttributeError",
     "evalue": "'MessageFactory' object has no attribute 'GetPrototype'",
     "output_type": "error",
     "traceback": [
      "\u001b[1;31m---------------------------------------------------------------------------\u001b[0m",
      "\u001b[1;31mAttributeError\u001b[0m                            Traceback (most recent call last)",
      "\u001b[1;31mAttributeError\u001b[0m: 'MessageFactory' object has no attribute 'GetPrototype'"
     ]
    },
    {
     "ename": "AttributeError",
     "evalue": "'MessageFactory' object has no attribute 'GetPrototype'",
     "output_type": "error",
     "traceback": [
      "\u001b[1;31m---------------------------------------------------------------------------\u001b[0m",
      "\u001b[1;31mAttributeError\u001b[0m                            Traceback (most recent call last)",
      "\u001b[1;31mAttributeError\u001b[0m: 'MessageFactory' object has no attribute 'GetPrototype'"
     ]
    },
    {
     "ename": "AttributeError",
     "evalue": "'MessageFactory' object has no attribute 'GetPrototype'",
     "output_type": "error",
     "traceback": [
      "\u001b[1;31m---------------------------------------------------------------------------\u001b[0m",
      "\u001b[1;31mAttributeError\u001b[0m                            Traceback (most recent call last)",
      "\u001b[1;31mAttributeError\u001b[0m: 'MessageFactory' object has no attribute 'GetPrototype'"
     ]
    },
    {
     "ename": "AttributeError",
     "evalue": "'MessageFactory' object has no attribute 'GetPrototype'",
     "output_type": "error",
     "traceback": [
      "\u001b[1;31m---------------------------------------------------------------------------\u001b[0m",
      "\u001b[1;31mAttributeError\u001b[0m                            Traceback (most recent call last)",
      "\u001b[1;31mAttributeError\u001b[0m: 'MessageFactory' object has no attribute 'GetPrototype'"
     ]
    },
    {
     "name": "stdout",
     "output_type": "stream",
     "text": [
      "WARNING:tensorflow:From C:\\Users\\Siddharth\\AppData\\Roaming\\Python\\Python312\\site-packages\\tf_keras\\src\\losses.py:2976: The name tf.losses.sparse_softmax_cross_entropy is deprecated. Please use tf.compat.v1.losses.sparse_softmax_cross_entropy instead.\n",
      "\n"
     ]
    },
    {
     "name": "stderr",
     "output_type": "stream",
     "text": [
      "No sentence-transformers model found with name emilyalsentzer/Bio_ClinicalBERT. Creating a new one with mean pooling.\n"
     ]
    }
   ],
   "source": [
    "# Initialize the embedding model used for semantic chunking and indexing\n",
    "embedding_model = HuggingFaceEmbeddings(\n",
    "    model_name=\"emilyalsentzer/Bio_ClinicalBERT\"  # Clinical BERT model optimized for medical text\n",
    ")"
   ]
  },
  {
   "cell_type": "code",
   "execution_count": null,
   "id": "16c3ee39",
   "metadata": {},
   "outputs": [],
   "source": [
    "# Directory where PDF files are stored\n",
    "data_folder = \"./data\"\n",
    "\n",
    "# List all PDF files in the data folder\n",
    "pdf_files = [\n",
    "    os.path.join(data_folder, f)\n",
    "    for f in os.listdir(data_folder)\n",
    "    if f.lower().endswith(\".pdf\")\n",
    "]\n"
   ]
  },
  {
   "cell_type": "code",
   "execution_count": 4,
   "id": "6f3ba181",
   "metadata": {},
   "outputs": [
    {
     "name": "stdout",
     "output_type": "stream",
     "text": [
      "Ingesting file: ./data\\discharge.pdf\n",
      "Ingesting file: ./data\\general-discharge.pdf\n",
      "Ingesting file: ./data\\history.pdf\n",
      "Ingesting file: ./data\\mri.pdf\n"
     ]
    }
   ],
   "source": [
    "\n",
    "for path in pdf_files:\n",
    "    print(f\"Ingesting file: {path}\")  # Start of processing for this file\n",
    "\n",
    "    if not os.path.exists(path):\n",
    "        raise FileNotFoundError(f\"PDF file not found: {path}\")"
   ]
  },
  {
   "cell_type": "code",
   "execution_count": null,
   "id": "7bdb3bad",
   "metadata": {},
   "outputs": [
    {
     "name": "stdout",
     "output_type": "stream",
     "text": [
      "Ingesting file: ./data\\discharge.pdf\n"
     ]
    },
    {
     "name": "stdout",
     "output_type": "stream",
     "text": [
      "Warning: No languages specified, defaulting to English.\n",
      "Loaded 54 document elements from ./data\\discharge.pdf\n",
      "Split into 54 semantically-coherent chunks.\n",
      "Completed chunking for ./data\\discharge.pdf\n",
      "Total chunks from all PDFs: 54\n",
      "Completed storage to Chroma for ./data\\discharge.pdf\n",
      "Ingesting file: ./data\\general-discharge.pdf\n"
     ]
    },
    {
     "name": "stderr",
     "output_type": "stream",
     "text": [
      "Cannot set gray non-stroke color because /'P32' is an invalid float value\n",
      "Cannot set gray non-stroke color because /'P40' is an invalid float value\n",
      "Cannot set gray non-stroke color because /'P53' is an invalid float value\n",
      "Cannot set gray non-stroke color because /'P71' is an invalid float value\n",
      "Cannot set gray non-stroke color because /'P79' is an invalid float value\n",
      "Cannot set gray non-stroke color because /'P87' is an invalid float value\n",
      "Cannot set gray non-stroke color because /'P99' is an invalid float value\n",
      "Cannot set gray non-stroke color because /'P107' is an invalid float value\n",
      "Cannot set gray non-stroke color because /'P115' is an invalid float value\n"
     ]
    },
    {
     "name": "stdout",
     "output_type": "stream",
     "text": [
      "Warning: No languages specified, defaulting to English.\n"
     ]
    },
    {
     "name": "stderr",
     "output_type": "stream",
     "text": [
      "Cannot set gray non-stroke color because /'P32' is an invalid float value\n",
      "Cannot set gray non-stroke color because /'P40' is an invalid float value\n",
      "Cannot set gray non-stroke color because /'P53' is an invalid float value\n",
      "Cannot set gray non-stroke color because /'P71' is an invalid float value\n",
      "Cannot set gray non-stroke color because /'P79' is an invalid float value\n",
      "Cannot set gray non-stroke color because /'P87' is an invalid float value\n",
      "Cannot set gray non-stroke color because /'P99' is an invalid float value\n",
      "Cannot set gray non-stroke color because /'P107' is an invalid float value\n",
      "Cannot set gray non-stroke color because /'P115' is an invalid float value\n"
     ]
    },
    {
     "name": "stdout",
     "output_type": "stream",
     "text": [
      "Loaded 81 document elements from ./data\\general-discharge.pdf\n",
      "Split into 82 semantically-coherent chunks.\n",
      "Completed chunking for ./data\\general-discharge.pdf\n",
      "Total chunks from all PDFs: 136\n",
      "Completed storage to Chroma for ./data\\general-discharge.pdf\n",
      "Ingesting file: ./data\\history.pdf\n",
      "Warning: No languages specified, defaulting to English.\n",
      "Loaded 135 document elements from ./data\\history.pdf\n",
      "Split into 136 semantically-coherent chunks.\n",
      "Completed chunking for ./data\\history.pdf\n",
      "Total chunks from all PDFs: 272\n",
      "Completed storage to Chroma for ./data\\history.pdf\n",
      "Ingesting file: ./data\\mri.pdf\n",
      "Warning: No languages specified, defaulting to English.\n",
      "Loaded 110 document elements from ./data\\mri.pdf\n",
      "Split into 110 semantically-coherent chunks.\n",
      "Completed chunking for ./data\\mri.pdf\n",
      "Total chunks from all PDFs: 382\n",
      "Completed storage to Chroma for ./data\\mri.pdf\n"
     ]
    }
   ],
   "source": [
    "def extract_patient_name(text: str) -> str:\n",
    "    match = re.search(r\"Patient name:\\s*\\n*\\s*([^\\n]+)\", text, re.IGNORECASE)\n",
    "    if match:\n",
    "        return match.group(1).strip()\n",
    "    return \"unknown\"\n",
    "\n",
    "# List to accumulate all chunks from all PDFs collectively\n",
    "all_chunks = []\n",
    "\n",
    "# Process each PDF file\n",
    "for path in pdf_files:\n",
    "    print(f\"Ingesting file: {path}\")  # Print which file is being processed\n",
    "\n",
    "    # Check if file exists at path\n",
    "    if not os.path.exists(path):\n",
    "        raise FileNotFoundError(f\"PDF file not found: {path}\")\n",
    "\n",
    "    # Load PDF contents using UnstructuredPDFLoader with specific mode and strategy for layout accuracy\n",
    "    loader = UnstructuredPDFLoader(path, mode=\"elements\", strategy=\"hi_res\")\n",
    "    docs = loader.load()  # Load documents as a list of chunks\n",
    "\n",
    "    # Add metadata to each document chunk (source filename and patient name)\n",
    "    for doc in docs:\n",
    "        doc.metadata[\"source\"] = os.path.basename(path)\n",
    "        doc.metadata[\"patient_name\"] = extract_patient_name(doc.page_content)\n",
    "\n",
    "    # Print a summary of loaded documents for this file\n",
    "    print(f\"\\nLoaded {len(docs)} documents from {os.path.basename(path)}:\\n\")\n",
    "    for i, doc in enumerate(docs, 1):\n",
    "        source = doc.metadata.get(\"source\", \"unknown\")\n",
    "        patient = doc.metadata.get(\"patient_name\", \"unknown\")\n",
    "        snippet = doc.page_content[:500].replace(\"\\n\", \" \")  # Show first 500 chars as snippet\n",
    "        print(f\"Document {i}:\")\n",
    "        print(f\"  Source: {source}\")\n",
    "        print(f\"  Patient Name: {patient}\")\n",
    "        print(f\"  Content snippet: {snippet}\\n{'-'*60}\")\n",
    "\n",
    "    # Use SemanticChunker to split documents into semantically coherent chunks\n",
    "    # with a buffer size to maintain context across chunks\n",
    "    splitter = SemanticChunker(embeddings=embedding_model, buffer_size=20)\n",
    "    chunks = splitter.split_documents(docs)\n",
    "    print(f\"Split into {len(chunks)} semantically-coherent chunks.\")\n",
    "    print(f\"Completed chunking for {path}\")\n",
    "\n",
    "    # Add the chunks from this file to the global list accumulating all chunks\n",
    "    all_chunks.extend(chunks)\n",
    "\n",
    "    # Filter out any chunks with complex or problematic metadata before storage\n",
    "    filtered_chunks = filter_complex_metadata(chunks)\n",
    "\n",
    "    # Use the PDF filename without extension as the Chroma collection name\n",
    "    doc_name = os.path.splitext(os.path.basename(path))[0]\n",
    "\n",
    "    # Store chunks into a Chroma collection, embedding them using the clinical embedding model\n",
    "    db = Chroma.from_documents(\n",
    "        documents=chunks,\n",
    "        embedding=embedding_model,\n",
    "        collection_name=doc_name,\n",
    "        persist_directory=\"./chroma_db\"  # Directory to persist the Chroma database\n",
    "    )\n",
    "    print(f\"Completed storage to Chroma for {path}\")\n",
    "\n"
   ]
  },
  {
   "cell_type": "code",
   "execution_count": 6,
   "id": "3b0e3bcd",
   "metadata": {},
   "outputs": [
    {
     "name": "stdout",
     "output_type": "stream",
     "text": [
      "[Collection(name=history), Collection(name=general-discharge), Collection(name=discharge), Collection(name=mri)]\n"
     ]
    }
   ],
   "source": [
    "\n",
    "client = chromadb.PersistentClient(path=\"./chroma_db\")\n",
    "print(client.list_collections())"
   ]
  }
 ],
 "metadata": {
  "kernelspec": {
   "display_name": "Python 3",
   "language": "python",
   "name": "python3"
  },
  "language_info": {
   "codemirror_mode": {
    "name": "ipython",
    "version": 3
   },
   "file_extension": ".py",
   "mimetype": "text/x-python",
   "name": "python",
   "nbconvert_exporter": "python",
   "pygments_lexer": "ipython3",
   "version": "3.12.6"
  }
 },
 "nbformat": 4,
 "nbformat_minor": 5
}
