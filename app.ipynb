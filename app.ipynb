{
 "cells": [
  {
   "cell_type": "code",
   "execution_count": 1,
   "id": "d82c34d5",
   "metadata": {},
   "outputs": [],
   "source": [
    "\n",
    "from langchain.embeddings import HuggingFaceEmbeddings\n",
    "from langchain_chroma import Chroma\n",
    "from langchain_community.retrievers.bm25 import BM25Retriever\n",
    "from langchain.retrievers.merger_retriever import MergerRetriever\n",
    "from langchain_community.cross_encoders import HuggingFaceCrossEncoder\n",
    "from langchain.retrievers.document_compressors import CrossEncoderReranker\n",
    "from langchain.retrievers import ContextualCompressionRetriever\n",
    "from langchain.prompts import PromptTemplate\n",
    "from langchain.schema import Document\n",
    "import langchain_community.retrievers as retrievers\n",
    "import requests\n",
    "import langextract as lx\n",
    "from langextract import data as lx_data\n",
    "from concurrent.futures import ThreadPoolExecutor, as_completed\n",
    "import json\n",
    "#from langchain_community.retrievers import RedundancyFilterRetriever\n",
    "import chromadb\n",
    "import os\n"
   ]
  },
  {
   "cell_type": "code",
   "execution_count": null,
   "id": "b5fabd5c",
   "metadata": {},
   "outputs": [],
   "source": [
    "# Load PDF files from the data directory\n",
    "data_folder = \"./data\"\n",
    "pdf_files = [\n",
    "    os.path.join(data_folder, f)\n",
    "    for f in os.listdir(data_folder)\n",
    "    if f.lower().endswith(\".pdf\")\n",
    "]"
   ]
  },
  {
   "cell_type": "code",
   "execution_count": null,
   "id": "1b293515",
   "metadata": {},
   "outputs": [
    {
     "name": "stderr",
     "output_type": "stream",
     "text": [
      "C:\\Users\\Siddharth\\AppData\\Local\\Temp\\ipykernel_20548\\2378950855.py:3: LangChainDeprecationWarning: The class `HuggingFaceEmbeddings` was deprecated in LangChain 0.2.2 and will be removed in 1.0. An updated version of the class exists in the :class:`~langchain-huggingface package and should be used instead. To use it run `pip install -U :class:`~langchain-huggingface` and import as `from :class:`~langchain_huggingface import HuggingFaceEmbeddings``.\n",
      "  embedding_model = HuggingFaceEmbeddings(model_name=\"emilyalsentzer/Bio_ClinicalBERT\")\n"
     ]
    },
    {
     "ename": "AttributeError",
     "evalue": "'MessageFactory' object has no attribute 'GetPrototype'",
     "output_type": "error",
     "traceback": [
      "\u001b[1;31m---------------------------------------------------------------------------\u001b[0m",
      "\u001b[1;31mAttributeError\u001b[0m                            Traceback (most recent call last)",
      "\u001b[1;31mAttributeError\u001b[0m: 'MessageFactory' object has no attribute 'GetPrototype'"
     ]
    },
    {
     "ename": "AttributeError",
     "evalue": "'MessageFactory' object has no attribute 'GetPrototype'",
     "output_type": "error",
     "traceback": [
      "\u001b[1;31m---------------------------------------------------------------------------\u001b[0m",
      "\u001b[1;31mAttributeError\u001b[0m                            Traceback (most recent call last)",
      "\u001b[1;31mAttributeError\u001b[0m: 'MessageFactory' object has no attribute 'GetPrototype'"
     ]
    },
    {
     "ename": "AttributeError",
     "evalue": "'MessageFactory' object has no attribute 'GetPrototype'",
     "output_type": "error",
     "traceback": [
      "\u001b[1;31m---------------------------------------------------------------------------\u001b[0m",
      "\u001b[1;31mAttributeError\u001b[0m                            Traceback (most recent call last)",
      "\u001b[1;31mAttributeError\u001b[0m: 'MessageFactory' object has no attribute 'GetPrototype'"
     ]
    },
    {
     "ename": "AttributeError",
     "evalue": "'MessageFactory' object has no attribute 'GetPrototype'",
     "output_type": "error",
     "traceback": [
      "\u001b[1;31m---------------------------------------------------------------------------\u001b[0m",
      "\u001b[1;31mAttributeError\u001b[0m                            Traceback (most recent call last)",
      "\u001b[1;31mAttributeError\u001b[0m: 'MessageFactory' object has no attribute 'GetPrototype'"
     ]
    },
    {
     "ename": "AttributeError",
     "evalue": "'MessageFactory' object has no attribute 'GetPrototype'",
     "output_type": "error",
     "traceback": [
      "\u001b[1;31m---------------------------------------------------------------------------\u001b[0m",
      "\u001b[1;31mAttributeError\u001b[0m                            Traceback (most recent call last)",
      "\u001b[1;31mAttributeError\u001b[0m: 'MessageFactory' object has no attribute 'GetPrototype'"
     ]
    },
    {
     "name": "stdout",
     "output_type": "stream",
     "text": [
      "WARNING:tensorflow:From C:\\Users\\Siddharth\\AppData\\Roaming\\Python\\Python312\\site-packages\\tf_keras\\src\\losses.py:2976: The name tf.losses.sparse_softmax_cross_entropy is deprecated. Please use tf.compat.v1.losses.sparse_softmax_cross_entropy instead.\n",
      "\n"
     ]
    },
    {
     "name": "stderr",
     "output_type": "stream",
     "text": [
      "No sentence-transformers model found with name emilyalsentzer/Bio_ClinicalBERT. Creating a new one with mean pooling.\n"
     ]
    }
   ],
   "source": [
    "# Configuration for the vector database and embedding\n",
    "db_path = \"./chroma_db\"  # Persistent Chroma database directory\n",
    "embedding_model = HuggingFaceEmbeddings(model_name=\"emilyalsentzer/Bio_ClinicalBERT\")  # Clinical embedding model\n",
    "\n",
    "# Initialize persistent Chroma client to access collections\n",
    "client = chromadb.PersistentClient(path=db_path)\n",
    "\n",
    "# Collect collection names based on PDF filenames (without extensions)\n",
    "collection_names = [os.path.splitext(os.path.basename(p))[0] for p in pdf_files]"
   ]
  },
  {
   "cell_type": "code",
   "execution_count": null,
   "id": "9161582c",
   "metadata": {},
   "outputs": [],
   "source": [
    "# Groq API settings for LLM calls\n",
    "GROQ_API_URL = \"https://api.groq.com/openai/v1/chat/completions\"\n",
    "GROQ_API_KEY = \"your-api-key\"  # Secure your API key appropriately\n",
    "MODEL = \"meta-llama/llama-4-scout-17b-16e-instruct\"\n"
   ]
  },
  {
   "cell_type": "code",
   "execution_count": null,
   "id": "5a32d2e5",
   "metadata": {},
   "outputs": [],
   "source": [
    "# Prompt template to guide LLM responses specifically for healthcare context\n",
    "prompt_template = \"\"\"\n",
    "You are a helpful, precise, and compassionate healthcare assistant. ONLY use the medical context provided below to answer the question accurately and completely.\n",
    "\n",
    "If the information needed to answer the question is NOT present in the context, reply with \"I don't know.\" Do NOT guess or add any information that is not explicitly stated in the context.\n",
    "\n",
    "If you don't know the exact answer, you may provide any relevant information related to the question that is contained within the context to help guide the user.\n",
    "\n",
    "When asked about multiple documents, provide a clear, structured summary or overview of each document separately, including key information such as document type, patient(s) involved, dates, diagnoses, and other important content.\n",
    "\n",
    "Read the context carefully and synthesize a concise but comprehensive answer addressing the question. Avoid repeating information verbatim and focus on clarity and helpfulness.\n",
    "\n",
    "After providing the answer, suggest 3 relevant follow-up questions that someone might ask based on the same document to help explore related information. Format these suggestions as a numbered list prefixed by:\n",
    "\n",
    "\"Related questions you might ask:\"\n",
    "\n",
    "Medical Context:\n",
    "{context}\n",
    "\n",
    "Question:\n",
    "{question}\n",
    "\n",
    "Answer:\n",
    "\n",
    "---\n",
    "\n",
    "Related questions you might ask:\n",
    "1.\n",
    "2.\n",
    "3.\n",
    "\n",
    "\"\"\"\n"
   ]
  },
  {
   "cell_type": "code",
   "execution_count": null,
   "id": "a62e5603",
   "metadata": {},
   "outputs": [],
   "source": [
    "# Create a LangChain prompt template instance with context and question as input variables\n",
    "PROMPT = PromptTemplate(template=prompt_template, input_variables=[\"context\", \"question\"])"
   ]
  },
  {
   "cell_type": "code",
   "execution_count": null,
   "id": "c32f8935",
   "metadata": {},
   "outputs": [],
   "source": [
    "# Function to get response from the Groq LLM API given the formatted prompt\n",
    "def get_llama4_response(formatted_prompt):\n",
    "    \"\"\"\n",
    "    Calls Groq API with the prompt and returns the LLM response\n",
    "\n",
    "    Args:\n",
    "        formatted_prompt (str): The full prompt including question and medical context.\n",
    "\n",
    "    Returns:\n",
    "        str: The response generated by the LLM.\n",
    "    \"\"\"\n",
    "    headers = {\n",
    "        \"Authorization\": f\"Bearer {GROQ_API_KEY}\",\n",
    "        \"Content-Type\": \"application/json\"\n",
    "    }\n",
    "    data = {\n",
    "        \"model\": MODEL,\n",
    "        \"messages\": [\n",
    "            {\"role\": \"system\", \"content\": \"You are a helpful healthcare assistant.\"},\n",
    "            {\"role\": \"user\", \"content\": formatted_prompt}\n",
    "        ],\n",
    "        \"max_tokens\": 5000,\n",
    "        \"temperature\": 0.3  # Low temperature for focused, precise answers\n",
    "    }\n",
    "    response = requests.post(GROQ_API_URL, json=data, headers=headers)\n",
    "    response.raise_for_status()\n",
    "    result = response.json()\n",
    "    return result[\"choices\"][0][\"message\"][\"content\"].strip()"
   ]
  },
  {
   "cell_type": "code",
   "execution_count": 8,
   "id": "d7d946e6",
   "metadata": {},
   "outputs": [],
   "source": [
    "query = input(\"Enter the question? \")\n",
    "\n"
   ]
  },
  {
   "cell_type": "code",
   "execution_count": null,
   "id": "f8aacce2",
   "metadata": {},
   "outputs": [
    {
     "name": "stderr",
     "output_type": "stream",
     "text": [
      "C:\\Users\\Siddharth\\AppData\\Local\\Temp\\ipykernel_20548\\2825417938.py:21: LangChainDeprecationWarning: The method `BaseRetriever.get_relevant_documents` was deprecated in langchain-core 0.1.46 and will be removed in 1.0. Use :meth:`~invoke` instead.\n",
      "  candidate_docs = ensemble_retriever.get_relevant_documents(query)\n"
     ]
    },
    {
     "name": "stdout",
     "output_type": "stream",
     "text": [
      "Total reranked top chunks aggregated: 48\n"
     ]
    }
   ],
   "source": [
    "all_top_chunks = []  # Initialize an empty list to collect the top relevant document chunks from all document collections\n",
    "\n",
    "# Initialize the cross-encoder model for reranking the relevance of document chunks.\n",
    "# Cross-encoders jointly score the query and document pairs for better fine-grained relevance estimation.\n",
    "cross_encoder = HuggingFaceCrossEncoder(model_name=\"BAAI/bge-reranker-base\")\n",
    "\n",
    "# Wrap the cross-encoder in a reranker utility that applies reranking and limits results to top 12 documents.\n",
    "# This helps trim down retrieved documents to the most relevant subset.\n",
    "reranker = CrossEncoderReranker(model=cross_encoder, top_n=12)\n",
    "\n",
    "# Loop over each document collection stored in the Chroma vector store.\n",
    "# Each collection corresponds to one PDF document indexed separately.\n",
    "for doc_name in collection_names:\n",
    "    # Load the Chroma embedding retriever for this collection.\n",
    "    # Configure it to perform MMR (Maximal Marginal Relevance) search to promote diverse, relevant retrieval.\n",
    "    db_doc = Chroma(collection_name=doc_name, persist_directory=db_path, embedding_function=embedding_model)\n",
    "    dense_retriever = db_doc.as_retriever(search_type=\"mmr\", search_kwargs={\"k\": 30, \"fetch_k\": 50})\n",
    "\n",
    "    # Fetch all raw documents and their metadata from the current Chroma collection.\n",
    "    # We'll use these to construct a BM25 retriever - a sparse text matching method.\n",
    "    all_docs = db_doc.get(include=[\"documents\", \"metadatas\"])\n",
    "\n",
    "    # Convert retrieved raw documents and metadata into LangChain Document objects.\n",
    "    bm25_docs = [Document(page_content=text, metadata=metadata) for text, metadata in zip(all_docs[\"documents\"], all_docs[\"metadatas\"])]\n",
    "\n",
    "    # Initialize the BM25 retriever from these documents.\n",
    "    # BM25 is a classic keyword-based retrieval technique that complements dense vector retrieval.\n",
    "    bm25_retriever = BM25Retriever.from_documents(bm25_docs)\n",
    "    bm25_retriever.k = 30  # Set BM25 to retrieve top 30 documents by relevance\n",
    "\n",
    "    # Create an ensemble retriever that merges results from both dense retriever and BM25 retriever.\n",
    "    # This leverages both semantic embeddings and keyword matching for better coverage.\n",
    "    ensemble_retriever = MergerRetriever(retrievers=[dense_retriever, bm25_retriever])\n",
    "\n",
    "    # Use the ensemble retriever to fetch candidate document chunks relevant to the user query.\n",
    "    # These candidates come from merging dense and sparse retrieval outputs.\n",
    "    candidate_docs = ensemble_retriever.get_relevant_documents(query)\n",
    "\n",
    "    # Wrap the ensemble retriever results with a ContextualCompressionRetriever.\n",
    "    # This component compresses and reranks documents using the cross-encoder reranker for precision.\n",
    "    # The idea is to remove redundancy and focus on the most relevant slices of text.\n",
    "    final_retriever = ContextualCompressionRetriever(base_compressor=reranker, base_retriever=ensemble_retriever)\n",
    "\n",
    "    # Retrieve compressed and reranked relevant documents, keeping only the top 15 for efficiency.\n",
    "    compressed_docs = final_retriever.get_relevant_documents(query)\n",
    "    top_compressed = compressed_docs[:15]\n",
    "\n",
    "    # From the top compressed results, extract key metadata and content and add them to the global accumulator.\n",
    "    # This prepares a combined set of best candidate chunks from all collections for downstream processing.\n",
    "    all_top_chunks.extend([\n",
    "        (\n",
    "            doc.metadata.get(\"source\", doc_name),               # Prefer extracted 'source' metadata; fallback to collection name\n",
    "            doc.metadata.get(\"patient_name\", \"unknown\"),        # Prefer patient name metadata if present\n",
    "            doc.page_content.strip()                             # Actual textual content of the chunk, stripped of excess whitespace\n",
    "        )\n",
    "        for doc in top_compressed\n",
    "    ])\n",
    "\n",
    "# Finally, after processing all collections, report how many top relevant chunks were accumulated globally.\n",
    "print(f\"Total reranked top chunks aggregated: {len(all_top_chunks)}\")\n"
   ]
  },
  {
   "cell_type": "code",
   "execution_count": 10,
   "id": "e17ea209",
   "metadata": {},
   "outputs": [
    {
     "name": "stdout",
     "output_type": "stream",
     "text": [
      "\n",
      "--- User Question ---\n",
      "\n",
      "what is the history of patient name john doe\n"
     ]
    }
   ],
   "source": [
    "print(\"\\n--- User Question ---\\n\")\n",
    "print(query)"
   ]
  },
  {
   "cell_type": "code",
   "execution_count": null,
   "id": "52066984",
   "metadata": {},
   "outputs": [],
   "source": [
    "# Convert aggregated tuples into Document objects for further processing\n",
    "all_docs = [Document(page_content=text, metadata={\"source\": source, \"patient_name\": patient})\n",
    "            for source, patient, text in all_top_chunks]"
   ]
  },
  {
   "cell_type": "code",
   "execution_count": null,
   "id": "2d0a0545",
   "metadata": {},
   "outputs": [],
   "source": [
    "# Remove duplicate document chunks based on content to avoid redundancy\n",
    "unique_texts = set()\n",
    "unique_docs = []\n",
    "for doc in all_docs:\n",
    "    text = doc.page_content.strip()\n",
    "    if text not in unique_texts:\n",
    "        unique_docs.append(doc)\n",
    "        unique_texts.add(text)"
   ]
  },
  {
   "cell_type": "code",
   "execution_count": null,
   "id": "cd855f3b",
   "metadata": {},
   "outputs": [
    {
     "name": "stdout",
     "output_type": "stream",
     "text": [
      "Top 34 unique retrieved chunks:\n",
      "[Chunk 1] Source: discharge.pdf Patient: John Doe Medical Record Number: 123456789 Date admitted: July 1, 2050 Date discharged: July 3, 2050 Attending Physician: Dr. Will Teachwell Resident Physician: Dr. Bea Goodoc Diagnosis: Left-sided systolic congestive heart failure EF of 35% on echo performed 3 months ago Other diagnoses: Type 2 Diabetes Stage 2 Hypertension Osteoarthritis\n",
      "Content snippet: Patient name: John Doe Medical Record Number: 123456789 Date admitted: July 1, 2050 Date discharged: July 3, 2050 Attending Physician: Dr. Will Teachwell Resident Physician: Dr. Bea Goodoc Diagnosis: Left-sided systolic congestive heart failure EF of 35% on echo performed 3 months ago Other diagnoses: Type 2 Diabetes Stage 2 Hypertension Osteoarthritis\n",
      "--------------------------------------------------------------------------------\n",
      "[Chunk 2] Source: discharge.pdf Patient: unknown\n",
      "Content snippet: Mr. Doe is a 72 year old gentleman with a history of CHF who presented with a 3 day history of gradually worsening lower extremity edema, weight gain, and shortness of breath. Today while trying to mow his lawn he had to stop multiple times to catch his breath and developed some chest tightness leading him to come to the emergency room. He denies any other decrease in exercise tolerance or chest pain leading up to this event. He reports good understanding and adherence to his medications, but do\n",
      "--------------------------------------------------------------------------------\n",
      "[Chunk 3] Source: discharge.pdf Patient: unknown\n",
      "Content snippet: Patient name:\n",
      "--------------------------------------------------------------------------------\n",
      "[Chunk 4] Source: discharge.pdf Patient: unknown\n",
      "Content snippet: 1. Left intertrochanteric femur fracture – Patient underwent a left hemiarthroplasty on hospital day 1. (Please see full Op note if further details desired.) Her post-p course was complicated by a two day period of atrial fibrillation and volume overload as detailed below, but otherwise she tolerated the procedure well. She started physical therapy POD #1 and has been progressing as expected. She will be discharged to the TLC Rehab Center to complete her course of rehab with the goal of returnin\n",
      "--------------------------------------------------------------------------------\n",
      "[Chunk 5] Source: discharge.pdf Patient: unknown\n",
      "Content snippet: History:\n",
      "--------------------------------------------------------------------------------\n",
      "[Chunk 6] Source: discharge.pdf Patient: unknown\n",
      "Content snippet: 1. CHF – On admission he had 3+ lower extremity pitting edema, rales from the bases to midlung bilaterally, elevated jugular venous pressure and a CXR consistent with volume overload. He was diuresed and was able to quickly wean off supplemental oxygen and exam revealed resolution of his edema and rales at discharge. Discharge weight is 202 lbs. Given that dietary indiscretion led to the exacerbation, it was not felt necessary to change his home diuretic regimen at this time. He was re- educated\n",
      "--------------------------------------------------------------------------------\n",
      "[Chunk 7] Source: discharge.pdf Patient: unknown\n",
      "Content snippet: 2. Cardiovascular – At baseline she has fair exercise tolerance and has done well on her CHF regimen. POD #1 she developed atrial fibrillation with rapid ventricular response and a medicine consult was called. They adjusted her metoprolol dose and diuresed her with a resolution of her hypervolemia and A-fib in 2 days. Due to her CHF and A-fib she was ruled out for a peri-op MI with serial EKGs and enzymes. TSH was within normal limits. She is currently doing well and is considered to be euvolemi\n",
      "--------------------------------------------------------------------------------\n",
      "[Chunk 8] Source: discharge.pdf Patient: unknown\n",
      "Content snippet: 3. Type 2 Diabetes – His HgbA1C was 7.3 which is good control for him at this time. No changes were made to his diabetic regimen. On health maintenance questioning he revealed it has been 18 months since his last eye appointment and we recommended he make an appointment as soon as he can get in.\n",
      "--------------------------------------------------------------------------------\n",
      "[Chunk 9] Source: general-discharge.pdf Patient: Smith, John\n",
      "Content snippet: Patient Name: Smith, John\n",
      "--------------------------------------------------------------------------------\n",
      "[Chunk 10] Source: general-discharge.pdf Patient: unknown\n",
      "Content snippet: DOB: 25-Dec-1950, 65 years old\n",
      "--------------------------------------------------------------------------------\n",
      "[Chunk 11] Source: general-discharge.pdf Patient: unknown\n",
      "Content snippet: Indicate pre-existing   conditions patient   arrived with vs. conditions that   developed during stay\n",
      "--------------------------------------------------------------------------------\n",
      "[Chunk 12] Source: general-discharge.pdf Patient: unknown\n",
      "Content snippet: 2. Fever and urinary symptoms: A preliminary diagnosis of pyelonephritis was established. Other causes of fever were possible but less likely. The patient was hypotensive on initial assessment with a blood pressure of 80/40. Serum lactate was elevated at 6.1. A bolus of IV fluid was administered (1.5L) but the patient remained hypotensive. Our colleagues from ICU were consulted. An arterial line was inserted for hemodynamic monitoring. Hemodynamics were supported with levophed and crystalloids. \n",
      "--------------------------------------------------------------------------------\n",
      "[Chunk 13] Source: general-discharge.pdf Patient: unknown\n",
      "Content snippet: 1. Upon arrival: Patient presented with five days of increased urinary frequency, urgency and dysuria as well as 48 hours of fever and rigors. He was hypotensive and tachycardic upon arrival to the emergency department. The internal medicine service was consulted. The following issues were addressed during the hospitalization:\n",
      "--------------------------------------------------------------------------------\n",
      "[Chunk 14] Source: general-discharge.pdf Patient: unknown\n",
      "Content snippet: severely enlarged prostate. Urinary retention secondary to BPH was the likely underlying mechanism that contributed to the development of pyelonephritis in this patient. He was started on Tamsulosin 0.4mg PO qhs and tolerated it well with no orthostatic intolerance. Post void residuals show 150-200cc of retained urine in the bladder. An outpatient referral to Urology has been requested by our team.\n",
      "--------------------------------------------------------------------------------\n",
      "[Chunk 15] Source: general-discharge.pdf Patient: unknown\n",
      "Content snippet: Be concise and itemize      descriptions of patient’s   initial presentation\n",
      "--------------------------------------------------------------------------------\n",
      "[Chunk 16] Source: general-discharge.pdf Patient: unknown\n",
      "Content snippet: On further review it was learned that the patient has been experiencing symptoms of prostatism for the last year. An abdominal ultrasound performed for elevated liver enzymes and acute kidney injury confirmed a\n",
      "--------------------------------------------------------------------------------\n",
      "[Chunk 17] Source: history.pdf Patient: unknown\n",
      "Content snippet: Diagnosed with hypertension and began on unknown medication. Stopped after 6 months because of drowsiness. Diagnosed with peptic ulcer disease, which resolved after three months on cimetidine. She describes no history of cancer, lung disease or previous heart disease. Penicillin; experienced rash and hives in 1985. 1 or 2 beers each weekend; 1 glass of wine once a week with dinner. None. No prescription or illegal drug use. Occasional OTC ibuprofen (Advil) for headache (QOD). 79, alive and well.\n",
      "--------------------------------------------------------------------------------\n",
      "[Chunk 18] Source: history.pdf Patient: unknown\n",
      "Content snippet: This is the first admission for this 56 year old woman, who states she was in her usual state of good health until one week prior to admission. At that time she noticed the abrupt onset (over a few seconds to a minute) of chest pain which she describes as dull and aching in character. The pain began in the left para-sternal area and radiated up to her neck. The first episode of pain one week ago occurred when she was working in her garden in the middle of the day. She states she had been working\n",
      "--------------------------------------------------------------------------------\n",
      "[Chunk 19] Source: history.pdf Patient: unknown\n",
      "Content snippet: History of Present Illness\n",
      "--------------------------------------------------------------------------------\n",
      "[Chunk 20] Source: history.pdf Patient: unknown\n",
      "Content snippet: Change or new circumstances to the problem New duration Reason she come in for visit What has patient tried for relief\n",
      "--------------------------------------------------------------------------------\n",
      "[Chunk 21] Source: history.pdf Patient: unknown\n",
      "Content snippet: This patient needs a detailed cardiac examination\n",
      "--------------------------------------------------------------------------------\n",
      "[Chunk 22] Source: history.pdf Patient: unknown\n",
      "Content snippet: HTN 3 years ago,\n",
      "--------------------------------------------------------------------------------\n",
      "[Chunk 23] Source: history.pdf Patient: unknown\n",
      "Content snippet: Description may give very important clues as to the nature or severity of the patient’s problem\n",
      "--------------------------------------------------------------------------------\n",
      "[Chunk 24] Source: history.pdf Patient: unknown\n",
      "Content snippet: This patient’s description of dull, aching, exertion related substernal chest pain is suggestive of ischemic cardiac origin. Her findings of a FH of early ASCVD, hypertension, and early surgical menopause are pertinent risk factors for development of coronary artery disease. Therefore, the combination of this patient’s presentation, and the multiple risk factors make angina pectoris the most likely diagnosis. The pain symptoms appear to be increasing, and the occurrence of pain at rest suggests \n",
      "--------------------------------------------------------------------------------\n",
      "[Chunk 25] Source: history.pdf Patient: unknown\n",
      "Content snippet: She does not smoke nor does she have diabetes. She was diagnosed with hypertension 3 years ago and had a TAH with BSO 6 years ago. She is not on hormone replacement therapy. There is a family history of premature CAD. She does not know her cholesterol level.\n",
      "--------------------------------------------------------------------------------\n",
      "[Chunk 26] Source: mri.pdf Patient: unknown\n",
      "Content snippet: Since he is unable to understand, retain, use or weigh simple information, due to his memory deficits and cognitive failures, he will not be able to make decisions about his personal and financial affairs, which would require being able to process such information. This is also demonstrated by his inability to remember basic information on the property he owns with his elderly mother, and also his inability to make a realistic and concrete plan for what to do with the property. He was also not a\n",
      "--------------------------------------------------------------------------------\n",
      "[Chunk 27] Source: mri.pdf Patient: unknown\n",
      "Content snippet: With regard to his orientation to time, place and person, he was unable to tell that he was in a hospital clinic but identified his son and was able to tell his own name and the name of his son. After being told he was in a hospital clinic, he identified me as a doctor, when asked. However, he could not remember my name, although I have been treating him for the last 5 years. He was able to tell correctly how he arrived at the clinic. However, when asked some moments later where he was, he said \n",
      "--------------------------------------------------------------------------------\n",
      "[Chunk 28] Source: mri.pdf Patient: unknown\n",
      "Content snippet: In your opinion, can the patient weigh information as part of the process of\n",
      "--------------------------------------------------------------------------------\n",
      "[Chunk 29] Source: mri.pdf Patient: unknown\n",
      "Content snippet: In your opinion, would the patient understand if he/she were to be informed of this application?\n",
      "--------------------------------------------------------------------------------\n",
      "[Chunk 30] Source: mri.pdf Patient: unknown\n",
      "Content snippet: Please also state the source of the information (e.g. from medical records, from the patient, from the applicant etc.).\n",
      "--------------------------------------------------------------------------------\n",
      "[Chunk 31] Source: mri.pdf Patient: unknown\n",
      "Content snippet: Mr Tan Ah Kow has a history of medical conditions. He has had hypertension and hyperlipidemia since 1990 and suffered several strokes in 2005. He subsequently developed heart problems (cardiomyopathy), cardiac failure and chronic renal disease and was treated in ABC Hospital.\n",
      "--------------------------------------------------------------------------------\n",
      "[Chunk 32] Source: mri.pdf Patient: unknown\n",
      "Content snippet: 2. “Property and affairs”, as the name implies, refers to matters concerning the patient’s financial affairs and property.\n",
      "--------------------------------------------------------------------------------\n",
      "[Chunk 33] Source: mri.pdf Patient: unknown\n",
      "Content snippet: Please state your observations of the patient (i.e. the patient’s demeanour, body language, tone of voice etc. relevant to your assessment), the interactions you had with the patient/the tests you administered/the questions you posed, and the date you examined the patient.\n",
      "--------------------------------------------------------------------------------\n",
      "[Chunk 34] Source: mri.pdf Patient: unknown\n",
      "Content snippet: MEDICAL REPORT      SECTION 1: PATIENT’S PARTICULARS      Full name of patient: Mr Tan Ah Kow      NRIC/FIN/Passport no. of patient: S1111111X      Age of patient: 55 years old      SECTION 2: DOCTOR’S PARTICULARS      Full name of doctor: Tan Ah Moi      NRIC/FIN/Passport no. of doctor: S2222222Z          MCR no. of doctor: 333333      Hospital / Clinic name and address: 1 Blackacre Hospital, Singapore 01010101\n",
      "--------------------------------------------------------------------------------\n"
     ]
    }
   ],
   "source": [
    "# Print snippets of top unique chunks for inspection\n",
    "print(f\"Top {len(unique_docs)} unique retrieved chunks:\")\n",
    "for i, doc in enumerate(unique_docs, 1):\n",
    "    source = doc.metadata.get(\"source\", \"unknown\")\n",
    "    patient = doc.metadata.get(\"patient_name\", \"unknown\")\n",
    "    snippet = doc.page_content[:500].replace(\"\\n\", \" \")\n",
    "    print(f\"[Chunk {i}] Source: {source} Patient: {patient}\")\n",
    "    print(f\"Content snippet: {snippet}\\n{'-'*80}\")"
   ]
  },
  {
   "cell_type": "code",
   "execution_count": 14,
   "id": "81fca166",
   "metadata": {},
   "outputs": [],
   "source": [
    "cross_encoder = HuggingFaceCrossEncoder(model_name=\"BAAI/bge-reranker-base\")\n",
    "\n",
    "# Create a list of (query, document_text) pairs for each unique document chunk\n",
    "# This prepares inputs for the cross-encoder which scores the relevance of each chunk to the query\n",
    "pairs = [(query, doc.page_content) for doc in unique_docs]\n",
    "\n",
    "# Use the cross-encoder to score each (query, document) pair\n",
    "# The output 'scores' is a list of relevance scores, one per document chunk\n",
    "scores = cross_encoder.score(pairs)\n",
    "\n",
    "# Sort the documents in descending order based on their relevance scores\n",
    "# Pair each score with its corresponding document, sort by score descending, then extract documents\n",
    "reranked_docs = [doc for _, doc in sorted(zip(scores, unique_docs), key=lambda x: x[0], reverse=True)]\n",
    "\n",
    "# Select the top n most relevant document chunks after reranking\n",
    "top_n_docs = reranked_docs[:25]"
   ]
  },
  {
   "cell_type": "code",
   "execution_count": null,
   "id": "ad9edb1f",
   "metadata": {},
   "outputs": [],
   "source": [
    "# Group final top chunks by their source document for structuring context to pass to LLM\n",
    "context_by_doc = {}\n",
    "for doc in top_n_docs:\n",
    "    source = doc.metadata.get(\"source\", \"unknown\")\n",
    "    patient = doc.metadata.get(\"patient_name\", \"unknown\")\n",
    "    context_by_doc.setdefault(source, []).append(f\"Patient: {patient}\\n{doc.page_content.strip()}\")\n",
    "\n",
    "# Construct final context string combining all top chunks grouped by document source\n",
    "context_text = \"\\n\\n\".join([\n",
    "    f\"Source: {source}\\n\" + \"\\n---\\n\".join(chunk_texts)\n",
    "    for source, chunk_texts in context_by_doc.items()\n",
    "])"
   ]
  },
  {
   "cell_type": "code",
   "execution_count": null,
   "id": "924dab21",
   "metadata": {},
   "outputs": [],
   "source": [
    "# Format prompt for LLM with question and structured context\n",
    "final_prompt = PROMPT.format(context=context_text, question=query)"
   ]
  },
  {
   "cell_type": "code",
   "execution_count": null,
   "id": "528da74b",
   "metadata": {},
   "outputs": [
    {
     "name": "stdout",
     "output_type": "stream",
     "text": [
      "\n",
      "--- Final Prompt Sent to LLM ---\n",
      "\n",
      "\n",
      "You are a helpful, precise, and compassionate healthcare assistant. ONLY use the medical context provided below to answer the question accurately and completely.\n",
      "\n",
      "If the information needed to answer the question is NOT present in the context, reply with \"I don't know.\" Do NOT guess or add any information that is not explicitly stated in the context.\n",
      "\n",
      "If you don't know the exact answer, you may provide any relevant information related to the question that is contained within the context to help guide the user.\n",
      "\n",
      "When asked about multiple documents, provide a clear, structured summary or overview of each document separately, including key information such as document type, patient(s) involved, dates, diagnoses, and other important content.\n",
      "\n",
      "Read the context carefully and synthesize a concise but comprehensive answer addressing the question. Avoid repeating information verbatim and focus on clarity and helpfulness.\n",
      "\n",
      "After providing the answer, suggest 3 relevant follow-up questions that someone might ask based on the same document to help explore related information. Format these suggestions as a numbered list prefixed by:\n",
      "\n",
      "\"Related questions you might ask:\"\n",
      "\n",
      "Medical Context:\n",
      "Source: discharge.pdf\n",
      "Patient: John Doe Medical Record Number: 123456789 Date admitted: July 1, 2050 Date discharged: July 3, 2050 Attending Physician: Dr. Will Teachwell Resident Physician: Dr. Bea Goodoc Diagnosis: Left-sided systolic congestive heart failure EF of 35% on echo performed 3 months ago Other diagnoses: Type 2 Diabetes Stage 2 Hypertension Osteoarthritis\n",
      "Patient name: John Doe Medical Record Number: 123456789 Date admitted: July 1, 2050 Date discharged: July 3, 2050 Attending Physician: Dr. Will Teachwell Resident Physician: Dr. Bea Goodoc Diagnosis: Left-sided systolic congestive heart failure EF of 35% on echo performed 3 months ago Other diagnoses: Type 2 Diabetes Stage 2 Hypertension Osteoarthritis\n",
      "---\n",
      "Patient: unknown\n",
      "Mr. Doe is a 72 year old gentleman with a history of CHF who presented with a 3 day history of gradually worsening lower extremity edema, weight gain, and shortness of breath. Today while trying to mow his lawn he had to stop multiple times to catch his breath and developed some chest tightness leading him to come to the emergency room. He denies any other decrease in exercise tolerance or chest pain leading up to this event. He reports good understanding and adherence to his medications, but does report that when his daughter was visiting town 4 days prior to admission that he and his wife took her out for a special Mexican dinner and he indulged in several baskets of chips and salsa.\n",
      "---\n",
      "Patient: unknown\n",
      "Patient name:\n",
      "---\n",
      "Patient: unknown\n",
      "1. Left intertrochanteric femur fracture – Patient underwent a left hemiarthroplasty on hospital day 1. (Please see full Op note if further details desired.) Her post-p course was complicated by a two day period of atrial fibrillation and volume overload as detailed below, but otherwise she tolerated the procedure well. She started physical therapy POD #1 and has been progressing as expected. She will be discharged to the TLC Rehab Center to complete her course of rehab with the goal of returning to independent living. Her pain is currently well controlled on scheduled Tylenol as below with morphine sulfate 30mg tablet given 30 minutes prior to her morning and afternoon therapy sessions. She will remain on lovenox BID for DVT prohylaxis until she completes her therapy and is once again fully mobile. The surgical site should be evaluated daily for signs of infection, though currently this has not been a\n",
      "---\n",
      "Patient: unknown\n",
      "History:\n",
      "---\n",
      "Patient: unknown\n",
      "1. CHF – On admission he had 3+ lower extremity pitting edema, rales from the bases to midlung bilaterally, elevated jugular venous pressure and a CXR consistent with volume overload. He was diuresed and was able to quickly wean off supplemental oxygen and exam revealed resolution of his edema and rales at discharge. Discharge weight is 202 lbs. Given that dietary indiscretion led to the exacerbation, it was not felt necessary to change his home diuretic regimen at this time. He was re- educated on diet and taking daily weights including information about weight gain that should trigger him to call his primary doctor. He will follow up with his doctor at the end of this week for volume reassessment and electrolyte labs.\n",
      "---\n",
      "Patient: unknown\n",
      "2. Cardiovascular – At baseline she has fair exercise tolerance and has done well on her CHF regimen. POD #1 she developed atrial fibrillation with rapid ventricular response and a medicine consult was called. They adjusted her metoprolol dose and diuresed her with a resolution of her hypervolemia and A-fib in 2 days. Due to her CHF and A-fib she was ruled out for a peri-op MI with serial EKGs and enzymes. TSH was within normal limits. She is currently doing well and is considered to be euvolemic with a weight of 146 lbs.\n",
      "---\n",
      "Patient: unknown\n",
      "3. Type 2 Diabetes – His HgbA1C was 7.3 which is good control for him at this time. No changes were made to his diabetic regimen. On health maintenance questioning he revealed it has been 18 months since his last eye appointment and we recommended he make an appointment as soon as he can get in.\n",
      "\n",
      "Source: general-discharge.pdf\n",
      "Patient: Smith, John\n",
      "Patient Name: Smith, John\n",
      "---\n",
      "Patient: unknown\n",
      "DOB: 25-Dec-1950, 65 years old\n",
      "\n",
      "Source: mri.pdf\n",
      "Patient: unknown\n",
      "Since he is unable to understand, retain, use or weigh simple information, due to his memory deficits and cognitive failures, he will not be able to make decisions about his personal and financial affairs, which would require being able to process such information. This is also demonstrated by his inability to remember basic information on the property he owns with his elderly mother, and also his inability to make a realistic and concrete plan for what to do with the property. He was also not able to remember what medical problems he has, and not able to answer a question as to whether he is currently on medication.\n",
      "---\n",
      "Patient: unknown\n",
      "With regard to his orientation to time, place and person, he was unable to tell that he was in a hospital clinic but identified his son and was able to tell his own name and the name of his son. After being told he was in a hospital clinic, he identified me as a doctor, when asked. However, he could not remember my name, although I have been treating him for the last 5 years. He was able to tell correctly how he arrived at the clinic. However, when asked some moments later where he was, he said he did not know.\n",
      "---\n",
      "Patient: unknown\n",
      "In your opinion, can the patient weigh information as part of the process of\n",
      "---\n",
      "Patient: unknown\n",
      "In your opinion, would the patient understand if he/she were to be informed of this application?\n",
      "---\n",
      "Patient: unknown\n",
      "Please also state the source of the information (e.g. from medical records, from the patient, from the applicant etc.).\n",
      "---\n",
      "Patient: unknown\n",
      "Mr Tan Ah Kow has a history of medical conditions. He has had hypertension and hyperlipidemia since 1990 and suffered several strokes in 2005. He subsequently developed heart problems (cardiomyopathy), cardiac failure and chronic renal disease and was treated in ABC Hospital.\n",
      "\n",
      "Source: history.pdf\n",
      "Patient: unknown\n",
      "Diagnosed with hypertension and began on unknown medication. Stopped after 6 months because of drowsiness. Diagnosed with peptic ulcer disease, which resolved after three months on cimetidine. She describes no history of cancer, lung disease or previous heart disease. Penicillin; experienced rash and hives in 1985. 1 or 2 beers each weekend; 1 glass of wine once a week with dinner. None. No prescription or illegal drug use. Occasional OTC ibuprofen (Advil) for headache (QOD). 79, alive and well. 54, deceased, heart attack. No brothers or sisters. There is a positive family history of hypertension, but no diabetes, or cancer. No complaints of headache change in vision, nose or ear problems, or sore throat. No complaints of dysphagia, nausea, vomiting, or change in Always use generic names Always list the type of reported reaction Quantity Include over-the-counter drugs Comment specifically on the presence or absence of diseases relevant to the chief complaint Separate each ROS section for easy identification OK to refer to HPI if adequately covered there List positive and negative findings in brief, concise\n",
      "---\n",
      "Patient: unknown\n",
      "This is the first admission for this 56 year old woman, who states she was in her usual state of good health until one week prior to admission. At that time she noticed the abrupt onset (over a few seconds to a minute) of chest pain which she describes as dull and aching in character. The pain began in the left para-sternal area and radiated up to her neck. The first episode of pain one week ago occurred when she was working in her garden in the middle of the day. She states she had been working for approximately 45 minutes and began to feel tired before the onset of the pain. Her discomfort was accompanied by shortness of breath, but no sweating, nausea, or vomiting. The pain lasted approximately 5 to 10 minutes and resolved when she went inside and rested in a cool area.\n",
      "---\n",
      "Patient: unknown\n",
      "History of Present Illness\n",
      "---\n",
      "Patient: unknown\n",
      "Change or new circumstances to the problem New duration Reason she come in for visit What has patient tried for relief\n",
      "---\n",
      "Patient: unknown\n",
      "This patient needs a detailed cardiac examination\n",
      "---\n",
      "Patient: unknown\n",
      "HTN 3 years ago,\n",
      "---\n",
      "Patient: unknown\n",
      "Description may give very important clues as to the nature or severity of the patient’s problem\n",
      "---\n",
      "Patient: unknown\n",
      "This patient’s description of dull, aching, exertion related substernal chest pain is suggestive of ischemic cardiac origin. Her findings of a FH of early ASCVD, hypertension, and early surgical menopause are pertinent risk factors for development of coronary artery disease. Therefore, the combination of this patient’s presentation, and the multiple risk factors make angina pectoris the most likely diagnosis. The pain symptoms appear to be increasing, and the occurrence of pain at rest suggests this fits the presentation of unstable angina, and hospitalization is indicated.\n",
      "---\n",
      "Patient: unknown\n",
      "She does not smoke nor does she have diabetes. She was diagnosed with hypertension 3 years ago and had a TAH with BSO 6 years ago. She is not on hormone replacement therapy. There is a family history of premature CAD. She does not know her cholesterol level.\n",
      "\n",
      "Question:\n",
      "what is the history of patient name john doe\n",
      "\n",
      "Answer:\n",
      "\n",
      "---\n",
      "\n",
      "Related questions you might ask:\n",
      "1.\n",
      "2.\n",
      "3.\n",
      "\n",
      "\n"
     ]
    }
   ],
   "source": [
    "# Show the exact prompt sent to the LLM for transparency/debugging\n",
    "print(\"\\n--- Final Prompt Sent to LLM ---\\n\")\n",
    "print(final_prompt)"
   ]
  },
  {
   "cell_type": "code",
   "execution_count": null,
   "id": "34590a0f",
   "metadata": {},
   "outputs": [
    {
     "name": "stdout",
     "output_type": "stream",
     "text": [
      "\n",
      "Generating answer from Groq API...\n",
      "--- Answer ---\n",
      "\n",
      "The history of patient John Doe includes a 72-year-old gentleman with a history of congestive heart failure (CHF), Type 2 Diabetes, Stage 2 Hypertension, and Osteoarthritis. He presented with a 3-day history of gradually worsening lower extremity edema, weight gain, and shortness of breath. He reported good understanding and adherence to his medications but mentioned a recent dietary indiscretion, consuming several baskets of chips and salsa, which likely led to his exacerbation.\n",
      "\n",
      "He was admitted on July 1, 2050, and discharged on July 3, 2050, under the care of Dr. Will Teachwell and Resident Physician Dr. Bea Goodoc. His diagnosis included left-sided systolic congestive heart failure with an ejection fraction (EF) of 35% on an echo performed 3 months ago.\n",
      "\n",
      "Related questions you might ask:\n",
      "1. What are the specific dietary recommendations provided to John Doe to manage his CHF and other conditions?\n",
      "2. How will John Doe's volume status and electrolyte levels be monitored after discharge?\n",
      "3. Are there any plans to adjust John Doe's medication regimen for his CHF, Type 2 Diabetes, or Hypertension based on his recent hospitalization?\n"
     ]
    }
   ],
   "source": [
    "# Call LLM through Groq API to get final answer and print it\n",
    "print(\"\\nGenerating answer from Groq API...\\n--- Answer ---\\n\")\n",
    "answer = get_llama4_response(final_prompt)\n",
    "print(answer)"
   ]
  }
 ],
 "metadata": {
  "kernelspec": {
   "display_name": "Python 3",
   "language": "python",
   "name": "python3"
  },
  "language_info": {
   "codemirror_mode": {
    "name": "ipython",
    "version": 3
   },
   "file_extension": ".py",
   "mimetype": "text/x-python",
   "name": "python",
   "nbconvert_exporter": "python",
   "pygments_lexer": "ipython3",
   "version": "3.12.6"
  }
 },
 "nbformat": 4,
 "nbformat_minor": 5
}
